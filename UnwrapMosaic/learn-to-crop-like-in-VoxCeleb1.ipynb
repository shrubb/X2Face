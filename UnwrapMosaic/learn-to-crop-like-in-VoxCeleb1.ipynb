{
 "cells": [
  {
   "cell_type": "code",
   "execution_count": 1,
   "metadata": {},
   "outputs": [],
   "source": [
    "from pathlib import Path\n",
    "dataset_root = Path(\"/Vol1/dbstore/datasets/e.zakharov/VoxCeleb1/imgs/train\")"
   ]
  },
  {
   "cell_type": "code",
   "execution_count": 51,
   "metadata": {},
   "outputs": [],
   "source": [
    "import cv2\n",
    "import dlib\n",
    "cv2.setNumThreads(1)\n",
    "\n",
    "import torch\n",
    "from torch.utils.data import Dataset, DataLoader\n",
    "\n",
    "class VoxCeleb1Crops(Dataset):\n",
    "    def __init__(self, root):\n",
    "        self.root = root\n",
    "        \n",
    "        self.all_paths = []\n",
    "        for identity in dataset_root.iterdir():\n",
    "            for video in identity.iterdir():\n",
    "                self.all_paths += list(video.iterdir())[::4]\n",
    "                break\n",
    "        \n",
    "        self.face_detector = dlib.get_frontal_face_detector()\n",
    "\n",
    "    def __len__(self):\n",
    "        return len(self.all_paths)\n",
    "    \n",
    "    def __getitem__(self, i):\n",
    "        img = cv2.imread(str(self.all_paths[i]))\n",
    "        cv2.cvtColor(img, cv2.COLOR_BGR2RGB, dst=img)\n",
    "        bboxes = self.face_detector(img)\n",
    "        \n",
    "        if bboxes:\n",
    "            bbox = bboxes[0]\n",
    "            l, t, r, b = bbox.left(), bbox.top(), bbox.right(), bbox.bottom()\n",
    "        else:\n",
    "            l, t, r, b = (0, 0,) + img.shape[:2]\n",
    "\n",
    "        # center, relative to (t,l) in terms of crop size\n",
    "        center_x, center_y = img.shape[1] * 0.5, img.shape[0] * 0.5\n",
    "        center_x_rel = (center_x - l) / (r - l)\n",
    "        center_y_rel = (center_y - t) / (b - t)\n",
    "        # in terms of crop size (assume it's square)\n",
    "        image_size_rel = img.shape[0] / (b - t)\n",
    "        \n",
    "        return torch.tensor([center_x_rel, center_y_rel, image_size_rel], dtype=torch.float32)"
   ]
  },
  {
   "cell_type": "code",
   "execution_count": 52,
   "metadata": {},
   "outputs": [],
   "source": [
    "dataset = VoxCeleb1Crops(dataset_root)\n",
    "dataloader = DataLoader(dataset, num_workers=10, batch_size=100)"
   ]
  },
  {
   "cell_type": "code",
   "execution_count": 53,
   "metadata": {},
   "outputs": [
    {
     "data": {
      "application/vnd.jupyter.widget-view+json": {
       "model_id": "467c9fcf89c447fdb59ec6ab25f925f3",
       "version_major": 2,
       "version_minor": 0
      },
      "text/plain": [
       "HBox(children=(IntProgress(value=0, max=145), HTML(value='')))"
      ]
     },
     "metadata": {},
     "output_type": "display_data"
    }
   ],
   "source": [
    "from tqdm import tqdm_notebook as tqdm\n",
    "\n",
    "table = torch.empty(len(dataset), 3)\n",
    "total = 0\n",
    "\n",
    "for batch in tqdm(dataloader):\n",
    "    table[total:total+len(batch)] = batch\n",
    "    total += len(batch)"
   ]
  },
  {
   "cell_type": "code",
   "execution_count": 54,
   "metadata": {},
   "outputs": [],
   "source": [
    "import matplotlib.pyplot as plt\n",
    "%matplotlib inline"
   ]
  },
  {
   "cell_type": "code",
   "execution_count": 59,
   "metadata": {},
   "outputs": [
    {
     "data": {
      "text/plain": [
       "tensor([0.5000, 0.5056, 1.6720])"
      ]
     },
     "execution_count": 59,
     "metadata": {},
     "output_type": "execute_result"
    }
   ],
   "source": [
    "table.median(0)[0]"
   ]
  },
  {
   "cell_type": "code",
   "execution_count": 56,
   "metadata": {},
   "outputs": [
    {
     "data": {
      "image/png": "[encoded data removed]",
      "text/plain": [
       "<Figure size 432x288 with 1 Axes>"
      ]
     },
     "metadata": {},
     "output_type": "display_data"
    }
   ],
   "source": [
    "plt.hist(table[:, 0]);"
   ]
  },
  {
   "cell_type": "code",
   "execution_count": 57,
   "metadata": {},
   "outputs": [
    {
     "data": {
      "image/png": "[encoded data removed]",
      "text/plain": [
       "<Figure size 432x288 with 1 Axes>"
      ]
     },
     "metadata": {},
     "output_type": "display_data"
    }
   ],
   "source": [
    "plt.hist(table[:, 1]);"
   ]
  },
  {
   "cell_type": "code",
   "execution_count": 58,
   "metadata": {},
   "outputs": [
    {
     "data": {
      "image/png": "[encoded data removed]",
      "text/plain": [
       "<Figure size 432x288 with 1 Axes>"
      ]
     },
     "metadata": {},
     "output_type": "display_data"
    }
   ],
   "source": [
    "plt.hist(table[:, 2]);"
   ]
  },
  {
   "cell_type": "code",
   "execution_count": null,
   "metadata": {},
   "outputs": [],
   "source": []
  }
 ],
 "metadata": {
  "kernelspec": {
   "display_name": "Python 3",
   "language": "python",
   "name": "python3"
  },
  "language_info": {
   "codemirror_mode": {
    "name": "ipython",
    "version": 3
   },
   "file_extension": ".py",
   "mimetype": "text/x-python",
   "name": "python",
   "nbconvert_exporter": "python",
   "pygments_lexer": "ipython3",
   "version": "3.6.4"
  }
 },
 "nbformat": 4,
 "nbformat_minor": 2
}
